{
 "cells": [
  {
   "cell_type": "code",
   "execution_count": 5,
   "metadata": {
    "scrolled": true
   },
   "outputs": [],
   "source": [
    "from sage.graphs.distances_all_pairs import floyd_warshall\n",
    "\n",
    "def allRarySequences(length, alphSize):  #Finds all r-ary sequences of length numEdges.  Used for weight assignments.\n",
    "    DBSeq = DeBruijnSequences(alphSize,length).an_element()\n",
    "    rArySequences = []\n",
    "    for i in range(0,len(DBSeq)-length+1):\n",
    "        currentSeq = []\n",
    "        for j in range(0,length):\n",
    "            currentSeq.append(DBSeq[i+j]+1)\n",
    "        rArySequences.append(currentSeq)\n",
    "    return rArySequences\n",
    "\n",
    "n = 7  #number of vertices (Remember to also change numVertices in the \"nauty_geng\" argument)\n",
    "e = 6  #number of edges (Remember to also change numEdges in the \"nauty_geng\" argument)\n",
    "r = 3  #weights are chosen in {1,2,...,r}.  Note r must be at least 2 for the DeBruijn method above to work.\n",
    "Graphs = graphs.nauty_geng(\"7 6:6 -c\") #Generates all connected graphs on specified numVertices and numEdges ***Must input actual value of vertices and edges in argument: (\"numVertices numEdges:numEdges -c\").  \"-c\" restricts to connected graphs.\n",
    "rArySequences = allRarySequences(e,r) #Makes all r-ary sequences (+1 to each entry) using DeBruijn sequence method above.\n",
    "for G in Graphs:\n",
    "    sizeOfAutomorphismGroup = G.automorphism_group().cardinality() #Size of symmetry group of G\n",
    "    numberOfWorkingWeightAssignments = 0 #Counts number of weight assignments that make G a CCG\n",
    "    for weightAssignment in rArySequences:\n",
    "        #I couldn't find a good weighted graph distance package, so I just subdivided edges in G a number of times equal to the edge weight.  I think this approach is not too inefficient.\n",
    "        #Edge weight assignment\n",
    "        H = G.copy()\n",
    "        edgeCounter = 0\n",
    "        for u in range(0,n):\n",
    "            for v in range(u+1,n):\n",
    "                if G.has_edge(u,v):\n",
    "                    #print(edgeCounter)\n",
    "                    H.subdivide_edge((u,v),weightAssignment[edgeCounter]-1)\n",
    "                    G.set_edge_label(u,v,weightAssignment[edgeCounter])\n",
    "                    edgeCounter = edgeCounter+1\n",
    "        #Calculating distances\n",
    "        dist = floyd_warshall(H, paths=false, distances=true)\n",
    "        #Checking whether distances satisfy CC condition\n",
    "        Mult = []\n",
    "        for i in range(1,n):\n",
    "            ithMult = 0\n",
    "            for j in range(0,n):\n",
    "                for k in range(j+1,n):\n",
    "                    if dist[j][k] == i:\n",
    "                        ithMult = ithMult + 1\n",
    "            Mult.append(ithMult)\n",
    "        isCC = true\n",
    "        for i in range(1,n):\n",
    "            if i not in Mult:\n",
    "                isCC = false\n",
    "        #If weight assignment works on G, then print relevant info and show weighted graph.\n",
    "        if isCC == true:\n",
    "            G.show(vertex_labels=True, edge_labels=True, graph_border=True, figsize=[4,4])\n",
    "            print(\"Multiplicity list:\", Mult)\n",
    "            numberOfWorkingWeightAssignments = numberOfWorkingWeightAssignments+1\n",
    "    #If no weight assignment works, then just print the graph without edge weights.\n",
    "    if numberOfWorkingWeightAssignments == 0:\n",
    "        G.show(vertex_labels=True, edge_labels=False, graph_border=True, figsize=[4,4])\n",
    "    print(\"( Number of Weight Assignments, Size of Automorphism Group ) = (\",numberOfWorkingWeightAssignments, sizeOfAutomorphismGroup,\")\")"
   ]
  },
  {
   "cell_type": "code",
   "execution_count": null,
   "metadata": {},
   "outputs": [],
   "source": []
  }
 ],
 "metadata": {
  "kernelspec": {
   "display_name": "SageMath 9.0",
   "language": "sage",
   "name": "sagemath"
  },
  "language_info": {
   "codemirror_mode": {
    "name": "ipython",
    "version": 3
   },
   "file_extension": ".py",
   "mimetype": "text/x-python",
   "name": "python",
   "nbconvert_exporter": "python",
   "pygments_lexer": "ipython3",
   "version": "3.8.10"
  }
 },
 "nbformat": 4,
 "nbformat_minor": 4
}
