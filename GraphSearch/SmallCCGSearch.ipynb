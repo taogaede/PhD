{
 "cells": [
  {
   "cell_type": "code",
   "execution_count": 19,
   "metadata": {
    "scrolled": false
   },
   "outputs": [
    {
     "data": {
      "image/png": "[encoded data removed]",
      "text/plain": [
       "Graphics object consisting of 48 graphics primitives"
      ]
     },
     "metadata": {},
     "output_type": "display_data"
    },
    {
     "name": "stdout",
     "output_type": "stream",
     "text": [
      "Multiplicity list: [15, 14, 13, 12, 11, 10, 9, 8, 7, 6, 5, 4, 3, 2, 1]\n"
     ]
    }
   ],
   "source": [
    "from sage.graphs.distances_all_pairs import floyd_warshall\n",
    "from sage.graphs.distances_all_pairs import diameter\n",
    "\n",
    "def allRarySequences(length, alphSize):  #Finds all r-ary sequences of length numEdges.  Used for weight assignments.\n",
    "    DBSeq = DeBruijnSequences(alphSize,length).an_element()\n",
    "    rArySequences = []\n",
    "    for i in range(0,len(DBSeq)-length+1):\n",
    "        currentSeq = []\n",
    "        for j in range(0,length):\n",
    "            currentSeq.append(DBSeq[i+j]+1)\n",
    "        rArySequences.append(currentSeq)\n",
    "    return rArySequences\n",
    "\n",
    "def calculateMultiplicityList(dist):\n",
    "    Mult = []\n",
    "    for i in range(1,n):\n",
    "        ithMult = 0\n",
    "        for j in range(0,n):\n",
    "            for k in range(j+1,n):\n",
    "                if dist[j][k] == i:\n",
    "                    ithMult = ithMult + 1\n",
    "        Mult.append(ithMult)\n",
    "    return Mult\n",
    "\n",
    "def checkCCCondition(Mult):\n",
    "    isCC = true\n",
    "    for i in range(1,n):\n",
    "        if i not in Mult:\n",
    "            isCC = false\n",
    "    return isCC\n",
    "\n",
    "def checkUniformMultiplicityCondition(Mult):\n",
    "    n = len(Mult)+1\n",
    "    isUniform = true\n",
    "    for i in Mult:\n",
    "        if i != floor(n/2):\n",
    "            isUniform = false\n",
    "    return isUniform\n",
    "    \n",
    "\n",
    "n = 16  #number of vertices (Remember to also change numVertices in the \"nauty_geng\" argument)\n",
    "e = 15  #number of edges (Remember to also change numEdges in the \"nauty_geng\" argument)\n",
    "r = 1  #weights are chosen in {1,2,...,r}.  Note r must be at least 2 for the DeBruijn method above to work.\n",
    "Graphs = graphs.nauty_geng(\"16 15:15 -c\") #Generates all connected graphs on specified numVertices and numEdges ***Must input actual value of vertices and edges in argument: (\"numVertices numEdges:numEdges -c\").  \"-c\" restricts to connected graphs.\n",
    "rArySequences = allRarySequences(e,r) #Makes all r-ary sequences (+1 to each entry) using DeBruijn sequence method above.\n",
    "if r == 1:\n",
    "    allOnes = [1 for i in range(e)]\n",
    "    rArySequences.append(allOnes)\n",
    "for G in Graphs:\n",
    "    sizeOfAutomorphismGroup = G.automorphism_group().cardinality() #Size of symmetry group of G\n",
    "    if sizeOfAutomorphismGroup >= 1:\n",
    "        numberOfWorkingWeightAssignments = 0 #Counts number of weight assignments that make G a CCG\n",
    "        for weightAssignment in rArySequences:\n",
    "            if numberOfWorkingWeightAssignments >0:\n",
    "                break\n",
    "            #I couldn't find a good weighted graph distance package, so I just subdivided edges in G a number of times equal to the edge weight.  I think this approach is not too inefficient.\n",
    "            #Edge weight assignment\n",
    "            H = G.copy()\n",
    "            edgeCounter = 0\n",
    "            for u in range(0,n):\n",
    "                for v in range(u+1,n):\n",
    "                    if G.has_edge(u,v):\n",
    "                        #print(edgeCounter)\n",
    "                        if r>1:\n",
    "                            H.subdivide_edge((u,v),weightAssignment[edgeCounter]-1)\n",
    "                        G.set_edge_label(u,v,weightAssignment[edgeCounter])\n",
    "                        edgeCounter = edgeCounter+1\n",
    "            if sage.graphs.distances_all_pairs.diameter(H, algorithm='2sweep', source=None) <= n-1:\n",
    "                #Calculating distances\n",
    "                dist = floyd_warshall(H, paths=false, distances=true)\n",
    "                #Calculating Multiplicity List\n",
    "                Mult = calculateMultiplicityList(dist)\n",
    "\n",
    "                #Option 1: Checking whether distances satisfy CC condition\n",
    "                #If weight assignment works on G, then print relevant info and show weighted graph.\n",
    "                if checkCCCondition(Mult) == true:\n",
    "                    G.show(vertex_labels=True, edge_labels=True, graph_border=True, figsize=[4,4])\n",
    "                    print(\"Multiplicity list:\", Mult)\n",
    "                    numberOfWorkingWeightAssignments = numberOfWorkingWeightAssignments+1\n",
    "\n",
    "                #Option 2: Checks for Uniform Multiplicity Property\n",
    "                #if checkUniformMultiplicityCondition(Mult) == true:\n",
    "                    #G.show(vertex_labels=True, edge_labels=True, graph_border=True, figsize=[4,4])\n",
    "                    #print(\"Multiplicity list:\", Mult)\n",
    "                    #numberOfWorkingWeightAssignments = numberOfWorkingWeightAssignments+1\n",
    "\n",
    "        #If no weight assignment works, then just print the graph without edge weights.\n",
    "        #if numberOfWorkingWeightAssignments == 0:\n",
    "            #G.show(vertex_labels=True, edge_labels=False, graph_border=True, figsize=[4,4])\n",
    "        #print(\"( Number of Weight Assignments, Size of Automorphism Group ) = (\",numberOfWorkingWeightAssignments, sizeOfAutomorphismGroup,\")\")"
   ]
  },
  {
   "cell_type": "code",
   "execution_count": null,
   "metadata": {},
   "outputs": [],
   "source": []
  }
 ],
 "metadata": {
  "kernelspec": {
   "display_name": "SageMath 9.3",
   "language": "sage",
   "name": "sagemath"
  },
  "language_info": {
   "codemirror_mode": {
    "name": "ipython",
    "version": 3
   },
   "file_extension": ".py",
   "mimetype": "text/x-python",
   "name": "python",
   "nbconvert_exporter": "python",
   "pygments_lexer": "ipython3",
   "version": "3.7.10"
  }
 },
 "nbformat": 4,
 "nbformat_minor": 4
}
